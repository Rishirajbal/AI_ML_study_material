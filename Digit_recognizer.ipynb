{
  "metadata": {
    "kernelspec": {
      "language": "python",
      "display_name": "Python 3",
      "name": "python3"
    },
    "language_info": {
      "name": "python",
      "version": "3.10.14",
      "mimetype": "text/x-python",
      "codemirror_mode": {
        "name": "ipython",
        "version": 3
      },
      "pygments_lexer": "ipython3",
      "nbconvert_exporter": "python",
      "file_extension": ".py"
    },
    "kaggle": {
      "accelerator": "none",
      "dataSources": [
        {
          "sourceId": 3004,
          "databundleVersionId": 861823,
          "sourceType": "competition"
        }
      ],
      "dockerImageVersionId": 30761,
      "isInternetEnabled": true,
      "language": "python",
      "sourceType": "notebook",
      "isGpuEnabled": false
    },
    "colab": {
      "name": "Digit recognizer",
      "provenance": [],
      "include_colab_link": true
    }
  },
  "nbformat_minor": 0,
  "nbformat": 4,
  "cells": [
    {
      "cell_type": "markdown",
      "metadata": {
        "id": "view-in-github",
        "colab_type": "text"
      },
      "source": [
        "<a href=\"https://colab.research.google.com/github/Rishirajbal/AI_ML_study_material/blob/main/Digit_recognizer.ipynb\" target=\"_parent\"><img src=\"https://colab.research.google.com/assets/colab-badge.svg\" alt=\"Open In Colab\"/></a>"
      ]
    },
    {
      "source": [
        "\n",
        "# IMPORTANT: RUN THIS CELL IN ORDER TO IMPORT YOUR KAGGLE DATA SOURCES\n",
        "# TO THE CORRECT LOCATION (/kaggle/input) IN YOUR NOTEBOOK,\n",
        "# THEN FEEL FREE TO DELETE THIS CELL.\n",
        "# NOTE: THIS NOTEBOOK ENVIRONMENT DIFFERS FROM KAGGLE'S PYTHON\n",
        "# ENVIRONMENT SO THERE MAY BE MISSING LIBRARIES USED BY YOUR\n",
        "# NOTEBOOK.\n",
        "\n",
        "import os\n",
        "import sys\n",
        "from tempfile import NamedTemporaryFile\n",
        "from urllib.request import urlopen\n",
        "from urllib.parse import unquote, urlparse\n",
        "from urllib.error import HTTPError\n",
        "from zipfile import ZipFile\n",
        "import tarfile\n",
        "import shutil\n",
        "\n",
        "CHUNK_SIZE = 40960\n",
        "DATA_SOURCE_MAPPING = 'digit-recognizer:https%3A%2F%2Fstorage.googleapis.com%2Fkaggle-competitions-data%2Fkaggle-v2%2F3004%2F861823%2Fbundle%2Farchive.zip%3FX-Goog-Algorithm%3DGOOG4-RSA-SHA256%26X-Goog-Credential%3Dgcp-kaggle-com%2540kaggle-161607.iam.gserviceaccount.com%252F20240825%252Fauto%252Fstorage%252Fgoog4_request%26X-Goog-Date%3D20240825T233607Z%26X-Goog-Expires%3D259200%26X-Goog-SignedHeaders%3Dhost%26X-Goog-Signature%3Db152f564c701248108ebceb8a631704ba6a390bca08df09b097710647ea728f8cb759f1728fada75c583239871f446446ecdfb187be2d3d7b210a2b3f783c95aa372e13e03cd90e9f03802ab329c791e4daa68f6adabecf36886cb1c828fe89a0e3814e4bfb392a5744ee4de90eee1600b8df61f17ad2a07bcc23e34da8e8f104ea851bb1932cc49cd775879a1b43656279bf240654c8461c899152f624b3f4f20d6af2131f787b7ca0f9ce6bd016482b5574554561d30c52f241d3acbe4a9de485161877b3d538a72e066c3c9179faaf07728141b7497bf6c7a2367756f103d1a4696376eae4360b6f875bd339eb1f8dd401d336eb5d1f67a4a09c5099d6e60'\n",
        "\n",
        "KAGGLE_INPUT_PATH='/kaggle/input'\n",
        "KAGGLE_WORKING_PATH='/kaggle/working'\n",
        "KAGGLE_SYMLINK='kaggle'\n",
        "\n",
        "!umount /kaggle/input/ 2> /dev/null\n",
        "shutil.rmtree('/kaggle/input', ignore_errors=True)\n",
        "os.makedirs(KAGGLE_INPUT_PATH, 0o777, exist_ok=True)\n",
        "os.makedirs(KAGGLE_WORKING_PATH, 0o777, exist_ok=True)\n",
        "\n",
        "try:\n",
        "  os.symlink(KAGGLE_INPUT_PATH, os.path.join(\"..\", 'input'), target_is_directory=True)\n",
        "except FileExistsError:\n",
        "  pass\n",
        "try:\n",
        "  os.symlink(KAGGLE_WORKING_PATH, os.path.join(\"..\", 'working'), target_is_directory=True)\n",
        "except FileExistsError:\n",
        "  pass\n",
        "\n",
        "for data_source_mapping in DATA_SOURCE_MAPPING.split(','):\n",
        "    directory, download_url_encoded = data_source_mapping.split(':')\n",
        "    download_url = unquote(download_url_encoded)\n",
        "    filename = urlparse(download_url).path\n",
        "    destination_path = os.path.join(KAGGLE_INPUT_PATH, directory)\n",
        "    try:\n",
        "        with urlopen(download_url) as fileres, NamedTemporaryFile() as tfile:\n",
        "            total_length = fileres.headers['content-length']\n",
        "            print(f'Downloading {directory}, {total_length} bytes compressed')\n",
        "            dl = 0\n",
        "            data = fileres.read(CHUNK_SIZE)\n",
        "            while len(data) > 0:\n",
        "                dl += len(data)\n",
        "                tfile.write(data)\n",
        "                done = int(50 * dl / int(total_length))\n",
        "                sys.stdout.write(f\"\\r[{'=' * done}{' ' * (50-done)}] {dl} bytes downloaded\")\n",
        "                sys.stdout.flush()\n",
        "                data = fileres.read(CHUNK_SIZE)\n",
        "            if filename.endswith('.zip'):\n",
        "              with ZipFile(tfile) as zfile:\n",
        "                zfile.extractall(destination_path)\n",
        "            else:\n",
        "              with tarfile.open(tfile.name) as tarfile:\n",
        "                tarfile.extractall(destination_path)\n",
        "            print(f'\\nDownloaded and uncompressed: {directory}')\n",
        "    except HTTPError as e:\n",
        "        print(f'Failed to load (likely expired) {download_url} to path {destination_path}')\n",
        "        continue\n",
        "    except OSError as e:\n",
        "        print(f'Failed to load {download_url} to path {destination_path}')\n",
        "        continue\n",
        "\n",
        "print('Data source import complete.')\n"
      ],
      "metadata": {
        "id": "VhiCls-95bCf"
      },
      "cell_type": "code",
      "outputs": [],
      "execution_count": null
    },
    {
      "cell_type": "code",
      "source": [
        "import numpy as np\n",
        "import pandas as pd\n",
        "import matplotlib.pyplot as plt"
      ],
      "metadata": {
        "execution": {
          "iopub.status.busy": "2024-08-25T23:33:26.804667Z",
          "iopub.execute_input": "2024-08-25T23:33:26.805178Z",
          "iopub.status.idle": "2024-08-25T23:33:26.810744Z",
          "shell.execute_reply.started": "2024-08-25T23:33:26.805133Z",
          "shell.execute_reply": "2024-08-25T23:33:26.809548Z"
        },
        "trusted": true,
        "id": "veRgEjUx5bCm"
      },
      "execution_count": null,
      "outputs": []
    },
    {
      "cell_type": "code",
      "source": [
        "# Load the dataset\n",
        "data = pd.read_csv('/kaggle/input/digit-recognizer/train.csv')\n",
        "\n",
        "# Convert to numpy array\n",
        "data = np.array(data)\n",
        "\n",
        "# Split data into development and training sets\n",
        "m, n = data.shape\n",
        "data_dev = data[:1000].T\n",
        "Y_dev = data_dev[0]\n",
        "X_dev = data_dev[1:n]\n",
        "\n",
        "data_train = data[1000:m].T\n",
        "Y_train = data_train[0]\n",
        "X_train = data_train[1:n]\n"
      ],
      "metadata": {
        "execution": {
          "iopub.status.busy": "2024-08-25T23:33:26.814381Z",
          "iopub.execute_input": "2024-08-25T23:33:26.814809Z",
          "iopub.status.idle": "2024-08-25T23:33:30.129016Z",
          "shell.execute_reply.started": "2024-08-25T23:33:26.814755Z",
          "shell.execute_reply": "2024-08-25T23:33:30.128054Z"
        },
        "trusted": true,
        "id": "BGSXIuO55bCn"
      },
      "execution_count": null,
      "outputs": []
    },
    {
      "cell_type": "code",
      "source": [
        "def init_params():\n",
        "    w1 = np.random.rand(10, 784)\n",
        "    b1 = np.random.rand(10, 1)\n",
        "    w2 = np.random.rand(10, 10)\n",
        "    b2 = np.random.rand(10, 1)\n",
        "    return w1, b1, w2, b2"
      ],
      "metadata": {
        "execution": {
          "iopub.status.busy": "2024-08-25T23:33:30.130763Z",
          "iopub.execute_input": "2024-08-25T23:33:30.131142Z",
          "iopub.status.idle": "2024-08-25T23:33:30.137243Z",
          "shell.execute_reply.started": "2024-08-25T23:33:30.131105Z",
          "shell.execute_reply": "2024-08-25T23:33:30.136146Z"
        },
        "trusted": true,
        "id": "sZja1ye05bCo"
      },
      "execution_count": null,
      "outputs": []
    },
    {
      "cell_type": "code",
      "source": [
        "def relu(Z):\n",
        "    return np.maximum(0, Z)\n",
        "\n",
        "def softmax(Z):\n",
        "    exp_Z = np.exp(Z - np.max(Z, axis=0, keepdims=True))\n",
        "    return exp_Z / np.sum(exp_Z, axis=0, keepdims=True)"
      ],
      "metadata": {
        "execution": {
          "iopub.status.busy": "2024-08-25T23:33:30.139371Z",
          "iopub.execute_input": "2024-08-25T23:33:30.139859Z",
          "iopub.status.idle": "2024-08-25T23:33:30.147129Z",
          "shell.execute_reply.started": "2024-08-25T23:33:30.139806Z",
          "shell.execute_reply": "2024-08-25T23:33:30.146068Z"
        },
        "trusted": true,
        "id": "6axxYgeT5bCo"
      },
      "execution_count": null,
      "outputs": []
    },
    {
      "cell_type": "code",
      "source": [
        "def forward(w1, b1, w2, b2, X):\n",
        "    Z1 = np.dot(w1, X) + b1\n",
        "    A1 = relu(Z1)\n",
        "    Z2 = np.dot(w2, A1) + b2\n",
        "    A2 = softmax(Z2)\n",
        "    return Z1, A1, Z2, A2"
      ],
      "metadata": {
        "execution": {
          "iopub.status.busy": "2024-08-25T23:33:30.149655Z",
          "iopub.execute_input": "2024-08-25T23:33:30.150053Z",
          "iopub.status.idle": "2024-08-25T23:33:30.157836Z",
          "shell.execute_reply.started": "2024-08-25T23:33:30.150014Z",
          "shell.execute_reply": "2024-08-25T23:33:30.156709Z"
        },
        "trusted": true,
        "id": "5iMsSK8X5bCp"
      },
      "execution_count": null,
      "outputs": []
    },
    {
      "cell_type": "code",
      "source": [
        "def one_hot(Y, num_classes):\n",
        "    one_hot_Y = np.zeros((num_classes, Y.size))\n",
        "    one_hot_Y[Y, np.arange(Y.size)] = 1\n",
        "    return one_hot_Y"
      ],
      "metadata": {
        "execution": {
          "iopub.status.busy": "2024-08-25T23:33:30.159033Z",
          "iopub.execute_input": "2024-08-25T23:33:30.15939Z",
          "iopub.status.idle": "2024-08-25T23:33:30.167857Z",
          "shell.execute_reply.started": "2024-08-25T23:33:30.159321Z",
          "shell.execute_reply": "2024-08-25T23:33:30.166952Z"
        },
        "trusted": true,
        "id": "PPb0u-Lr5bCp"
      },
      "execution_count": null,
      "outputs": []
    },
    {
      "cell_type": "code",
      "source": [
        "def derivative_relu(Z):\n",
        "    return Z > 0\n",
        "\n",
        "def backprop(Z1, A1, Z2, A2, Y, X, w2):\n",
        "    m = Y.size\n",
        "    num_classes = A2.shape[0]\n",
        "    one_hot_Y = one_hot(Y, num_classes)\n",
        "    dZ2 = A2 - one_hot_Y\n",
        "    dW2 = 1 / m * np.dot(dZ2, A1.T)\n",
        "    db2 = 1 / m * np.sum(dZ2, axis=1, keepdims=True)\n",
        "    dZ1 = np.dot(w2.T, dZ2) * derivative_relu(Z1)\n",
        "    dW1 = 1 / m * np.dot(dZ1, X.T)\n",
        "    db1 = 1 / m * np.sum(dZ1, axis=1, keepdims=True)\n",
        "    return dW1, db1, dW2, db2"
      ],
      "metadata": {
        "execution": {
          "iopub.status.busy": "2024-08-25T23:33:30.169123Z",
          "iopub.execute_input": "2024-08-25T23:33:30.169537Z",
          "iopub.status.idle": "2024-08-25T23:33:30.178295Z",
          "shell.execute_reply.started": "2024-08-25T23:33:30.169493Z",
          "shell.execute_reply": "2024-08-25T23:33:30.177241Z"
        },
        "trusted": true,
        "id": "asPr94r05bCq"
      },
      "execution_count": null,
      "outputs": []
    },
    {
      "cell_type": "code",
      "source": [
        "def update_params(w1, b1, w2, b2, dW1, db1, dW2, db2, alpha):\n",
        "    w1 -= alpha * dW1\n",
        "    b1 -= alpha * db1\n",
        "    w2 -= alpha * dW2\n",
        "    b2 -= alpha * db2\n",
        "    return w1, b1, w2, b2"
      ],
      "metadata": {
        "execution": {
          "iopub.status.busy": "2024-08-25T23:33:30.179647Z",
          "iopub.execute_input": "2024-08-25T23:33:30.180049Z",
          "iopub.status.idle": "2024-08-25T23:33:30.192656Z",
          "shell.execute_reply.started": "2024-08-25T23:33:30.180011Z",
          "shell.execute_reply": "2024-08-25T23:33:30.191556Z"
        },
        "trusted": true,
        "id": "wdl2zJqQ5bCq"
      },
      "execution_count": null,
      "outputs": []
    },
    {
      "cell_type": "code",
      "source": [
        "def get_predictions(A2):\n",
        "    return np.argmax(A2, 0)\n",
        "\n",
        "def get_accuracy(predictions, Y):\n",
        "    return np.sum(predictions == Y) / Y.size\n",
        "\n",
        "def gradient_descent(X, Y, iterations, initial_alpha):\n",
        "    w1, b1, w2, b2 = init_params()\n",
        "    alpha = initial_alpha\n",
        "    for i in range(iterations):\n",
        "        Z1, A1, Z2, A2 = forward(w1, b1, w2, b2, X)\n",
        "        dW1, db1, dW2, db2 = backprop(Z1, A1, Z2, A2, Y, X, w2)\n",
        "        w1, b1, w2, b2 = update_params(w1, b1, w2, b2, dW1, db1, dW2, db2, alpha)\n",
        "        alpha = initial_alpha / (1 + 0.01 * i)  # Learning rate decay\n",
        "        if i % 10 == 0:\n",
        "            print(\"Iteration: \", i)\n",
        "            print(\"Accuracy: \", get_accuracy(get_predictions(A2), Y))\n",
        "    return w1, b1, w2, b2"
      ],
      "metadata": {
        "execution": {
          "iopub.status.busy": "2024-08-25T23:33:30.19407Z",
          "iopub.execute_input": "2024-08-25T23:33:30.194413Z",
          "iopub.status.idle": "2024-08-25T23:33:30.204779Z",
          "shell.execute_reply.started": "2024-08-25T23:33:30.194378Z",
          "shell.execute_reply": "2024-08-25T23:33:30.203734Z"
        },
        "trusted": true,
        "id": "aTO5rviy5bCr"
      },
      "execution_count": null,
      "outputs": []
    },
    {
      "cell_type": "code",
      "source": [
        "w1, b1, w2, b2 = gradient_descent(X_train, Y_train, 100, 0.989)"
      ],
      "metadata": {
        "execution": {
          "iopub.status.busy": "2024-08-25T23:34:19.496083Z",
          "iopub.execute_input": "2024-08-25T23:34:19.496936Z",
          "iopub.status.idle": "2024-08-25T23:34:57.43559Z",
          "shell.execute_reply.started": "2024-08-25T23:34:19.496866Z",
          "shell.execute_reply": "2024-08-25T23:34:57.43394Z"
        },
        "trusted": true,
        "id": "-XdF4evq5bCr",
        "outputId": "c26a946c-cfd3-4cc0-ce80-af3d7ddc98a6"
      },
      "execution_count": null,
      "outputs": [
        {
          "name": "stdout",
          "text": "Iteration:  0\nAccuracy:  0.09682926829268293\nIteration:  10\nAccuracy:  0.09885365853658537\nIteration:  20\nAccuracy:  0.11190243902439025\nIteration:  30\nAccuracy:  0.11190243902439025\nIteration:  40\nAccuracy:  0.11190243902439025\nIteration:  50\nAccuracy:  0.11190243902439025\nIteration:  60\nAccuracy:  0.11190243902439025\nIteration:  70\nAccuracy:  0.11190243902439025\nIteration:  80\nAccuracy:  0.11190243902439025\nIteration:  90\nAccuracy:  0.11190243902439025\n",
          "output_type": "stream"
        }
      ]
    },
    {
      "cell_type": "code",
      "source": [
        "import numpy as np\n",
        "import matplotlib.pyplot as plt\n",
        "import random\n",
        "\n",
        "def test_predictions(w1, b1, w2, b2):\n",
        "    # Randomly select an index from the dataset\n",
        "    index = random.randint(0, X_train.shape[1] - 1)\n",
        "\n",
        "    # Get the current image and its label\n",
        "    current_image = X_train[:, index, None]\n",
        "    prediction = make_predict(current_image, w1, b1, w2, b2)\n",
        "    label = Y_train[index]\n",
        "\n",
        "    # Print the prediction and the label\n",
        "    print(\"Prediction:\", prediction)\n",
        "    print(\"Label:\", label)\n",
        "\n",
        "    # Display the image\n",
        "    current_image = current_image.reshape((28, 28)) * 255\n",
        "    plt.gray()\n",
        "    plt.imshow(current_image, interpolation='nearest')\n",
        "    plt.show()\n",
        "\n",
        "# Test predictions with 5 random images\n",
        "for _ in range(5):\n",
        "    test_predictions(w1, b1, w2, b2)"
      ],
      "metadata": {
        "execution": {
          "iopub.status.busy": "2024-08-25T23:35:07.775653Z",
          "iopub.execute_input": "2024-08-25T23:35:07.776458Z",
          "iopub.status.idle": "2024-08-25T23:35:08.940451Z",
          "shell.execute_reply.started": "2024-08-25T23:35:07.776414Z",
          "shell.execute_reply": "2024-08-25T23:35:08.93937Z"
        },
        "trusted": true,
        "id": "sbmtvaBZ5bCs",
        "outputId": "31050821-bf9b-4342-ef8f-b53b8bf2c6e3"
      },
      "execution_count": null,
      "outputs": [
        {
          "name": "stdout",
          "text": "Prediction: [1]\nLabel: 8\n",
          "output_type": "stream"
        },
        {
          "output_type": "display_data",
          "data": {
            "text/plain": "<Figure size 640x480 with 1 Axes>",
            "image/png": "[encoded data removed]"
          },
          "metadata": {}
        },
        {
          "name": "stdout",
          "text": "Prediction: [1]\nLabel: 3\n",
          "output_type": "stream"
        },
        {
          "output_type": "display_data",
          "data": {
            "text/plain": "<Figure size 640x480 with 1 Axes>",
            "image/png": "[encoded data removed]"
          },
          "metadata": {}
        },
        {
          "name": "stdout",
          "text": "Prediction: [1]\nLabel: 2\n",
          "output_type": "stream"
        },
        {
          "output_type": "display_data",
          "data": {
            "text/plain": "<Figure size 640x480 with 1 Axes>",
            "image/png": "[encoded data removed]"
          },
          "metadata": {}
        },
        {
          "name": "stdout",
          "text": "Prediction: [1]\nLabel: 1\n",
          "output_type": "stream"
        },
        {
          "output_type": "display_data",
          "data": {
            "text/plain": "<Figure size 640x480 with 1 Axes>",
            "image/png": "[encoded data removed]"
          },
          "metadata": {}
        },
        {
          "name": "stdout",
          "text": "Prediction: [1]\nLabel: 0\n",
          "output_type": "stream"
        },
        {
          "output_type": "display_data",
          "data": {
            "text/plain": "<Figure size 640x480 with 1 Axes>",
            "image/png": "[encoded data removed]"
          },
          "metadata": {}
        }
      ]
    }
  ]
}